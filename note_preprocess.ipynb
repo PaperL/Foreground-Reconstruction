{
 "cells": [
  {
   "cell_type": "code",
   "execution_count": null,
   "metadata": {},
   "outputs": [],
   "source": [
    "from ccHarmony import polynomial_matching as pm\n",
    "import cv2\n",
    "import os\n",
    "import numpy as np\n",
    "from pathlib import Path\n",
    "from IPython.utils import io\n",
    "from termcolor import colored\n",
    "from tqdm.notebook import tqdm"
   ]
  },
  {
   "cell_type": "code",
   "execution_count": null,
   "metadata": {},
   "outputs": [],
   "source": [
    "# Input\n",
    "poly_folder_path = Path('testspace/polynomial_matching_coefficients')\n",
    "assert poly_folder_path.is_dir and poly_folder_path.exists\n",
    "# Output\n",
    "lut_folder_path = Path('testspace/lut')\n",
    "# lut_folder_path.mkdir(parents=True, exist_ok=False)\n",
    "\n",
    "poly_file_names = [x.name for x in list(poly_folder_path.glob('*.npy'))]\n",
    "poly_file_names.sort()\n",
    "assert len(poly_file_names) % 2 == 0\n",
    "\n",
    "poly_names = []\n",
    "for i in range(0, len(poly_file_names), 2):\n",
    "    assert poly_file_names[i][:-4] == poly_file_names[i+1][:-12]\n",
    "    poly_names.append(poly_file_names[i][:-4])\n",
    "\n",
    "print('Collect ' + colored(str(len(poly_names)), 'yellow') + ' polynomial coefficient files.')"
   ]
  },
  {
   "cell_type": "code",
   "execution_count": null,
   "metadata": {},
   "outputs": [],
   "source": [
    "def poly_to_lut(poly_path, lut_path):\n",
    "    m = pm.polyCoeff()\n",
    "    m.read_npy(str(poly_path))\n",
    "    dim = 33\n",
    "    step = 1.0 / (dim - 1)\n",
    "    with open(str(lut_path), \"w\") as file:\n",
    "        for i in range(dim):\n",
    "            for j in range(dim):\n",
    "                for k in range(dim):\n",
    "                    image = np.zeros((1, 1, 3), np.uint8)\n",
    "                    image[0][0][0] = step * k * 255\n",
    "                    image[0][0][1] = step * j * 255\n",
    "                    image[0][0][2] = step * i * 255\n",
    "                    # output = image\n",
    "                    with io.capture_output() as _: # suppress print output in m.transform()\n",
    "                        output = m.transform(image)\n",
    "                    # file.write('%d %d %d\\t' % (output[0][0][0], output[0][0][1], output[0][0][2]))\n",
    "                    file.write('%.6f %.6f %.6f\\n' % (output[0][0][0]/255., output[0][0][1]/255., output[0][0][2]/255.));"
   ]
  },
  {
   "cell_type": "code",
   "execution_count": null,
   "metadata": {},
   "outputs": [],
   "source": [
    "progress_bar = tqdm(poly_names)\n",
    "for i, poly_name in enumerate(progress_bar):\n",
    "    progress_bar.set_description(poly_name)\n",
    "    output_name = '%04d_0.txt' % i\n",
    "    poly_path = poly_folder_path / (poly_name+'.npy')\n",
    "    lut_path = lut_folder_path / output_name\n",
    "    poly_to_lut(poly_path, lut_path)\n",
    "    r_output_name = '%04d_1.txt' % i\n",
    "    r_poly_path = poly_folder_path / (poly_name+'_reverse.npy')\n",
    "    r_lut_path = lut_folder_path / r_output_name\n",
    "    poly_to_lut(r_poly_path, r_lut_path)"
   ]
  },
  {
   "cell_type": "code",
   "execution_count": null,
   "metadata": {},
   "outputs": [],
   "source": [
    "progress_bar = tqdm(poly_names)\n",
    "for i, poly_name in enumerate(progress_bar):\n",
    "    progress_bar.set_description(poly_name)\n",
    "    output_name = '%04d_0.txt' % i\n",
    "    print('%04d %s' % (i, poly_name))"
   ]
  },
  {
   "attachments": {},
   "cell_type": "markdown",
   "metadata": {},
   "source": [
    "## Resize test images"
   ]
  },
  {
   "cell_type": "code",
   "execution_count": null,
   "metadata": {},
   "outputs": [],
   "source": [
    "# Input\n",
    "data_path = Path('testspace/')\n",
    "assert data_path.is_dir and data_path.exists\n",
    "\n",
    "jpgs = list(data_path.rglob('*.jpg'))\n",
    "pngs = list(data_path.rglob('*.png'))\n",
    "\n",
    "def resize_image(image_path):\n",
    "    img = cv2.imread(str(image_path))\n",
    "    resized_img = cv2.resize(img, (256, 256))\n",
    "    cv2.imwrite(str(image_path), resized_img)\n",
    "\n",
    "for jpg in jpgs:\n",
    "    resize_image(jpg)\n",
    "for png in pngs:\n",
    "    resize_image(png)"
   ]
  }
 ],
 "metadata": {
  "kernelspec": {
   "display_name": "pytorch",
   "language": "python",
   "name": "python3"
  },
  "language_info": {
   "codemirror_mode": {
    "name": "ipython",
    "version": 3
   },
   "file_extension": ".py",
   "mimetype": "text/x-python",
   "name": "python",
   "nbconvert_exporter": "python",
   "pygments_lexer": "ipython3",
   "version": "3.9.13"
  },
  "orig_nbformat": 4,
  "vscode": {
   "interpreter": {
    "hash": "a2d0302cd44d3b13a55a0d683f2d47ccae8b5254f785ec9540a3d2eedfeb70dc"
   }
  }
 },
 "nbformat": 4,
 "nbformat_minor": 2
}
