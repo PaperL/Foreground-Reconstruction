{
 "cells": [
  {
   "cell_type": "code",
   "execution_count": 6,
   "metadata": {},
   "outputs": [],
   "source": [
    "from ccHarmony import polynomial_matching as pm\n",
    "import cv2\n",
    "import os\n",
    "import numpy as np\n",
    "from pathlib import Path\n",
    "from IPython.utils import io"
   ]
  },
  {
   "cell_type": "code",
   "execution_count": 2,
   "metadata": {},
   "outputs": [
    {
     "name": "stdout",
     "output_type": "stream",
     "text": [
      "(3, 11)\n",
      "(256, 256, 3)\n"
     ]
    }
   ],
   "source": [
    "folder_path = Path('demo/')\n",
    "poly_path = folder_path / 'poly.npy'\n",
    "img_path = folder_path / 'img.jpg'\n",
    "img_output_path = folder_path / 'output.jpg'\n",
    "lut_output_path = folder_path / 'lut.txt'\n",
    "\n",
    "assert folder_path.is_dir and folder_path.exists\n",
    "assert poly_path.is_file and poly_path.exists\n",
    "assert img_path.is_file and img_path.exists\n",
    "c = np.load(poly_path)\n",
    "print(c.shape)\n",
    "img = cv2.imread(str(img_path))\n",
    "print(img.shape)"
   ]
  },
  {
   "attachments": {},
   "cell_type": "markdown",
   "metadata": {},
   "source": [
    "## Transfer image with polynomial coefficients"
   ]
  },
  {
   "cell_type": "code",
   "execution_count": null,
   "metadata": {},
   "outputs": [],
   "source": [
    "m = pm.polyCoeff()\n",
    "m.read_npy(poly_path)\n",
    "image = cv2.imread(str(img_path))\n",
    "transformed = m.transform(cv2.cvtColor(image, cv2.COLOR_BGR2RGB))   # must in RGB color space\n",
    "output = cv2.cvtColor(transformed, cv2.COLOR_RGB2BGR)\n",
    "cv2.imwrite(str(img_output_path), output)"
   ]
  },
  {
   "attachments": {},
   "cell_type": "markdown",
   "metadata": {},
   "source": [
    "## Generate LUT from polynomial coefficients"
   ]
  },
  {
   "cell_type": "code",
   "execution_count": 7,
   "metadata": {},
   "outputs": [],
   "source": [
    "m = pm.polyCoeff()\n",
    "\n",
    "m.read_npy(str(poly_path))\n",
    "dim = 33\n",
    "step = 1.0 / (dim - 1)\n",
    "with open(str(lut_output_path), \"w\") as file:\n",
    "    for i in range(dim):\n",
    "        for j in range(dim):\n",
    "            for k in range(dim):\n",
    "                image = np.zeros((1, 1, 3), np.uint8)\n",
    "                image[0][0][0] = step * k * 255\n",
    "                image[0][0][1] = step * j * 255\n",
    "                image[0][0][2] = step * i * 255\n",
    "                # output = image\n",
    "                with io.capture_output() as _: # suppress print output in m.transform()\n",
    "                    output = m.transform(image)\n",
    "                # file.write('%d %d %d\\t' % (output[0][0][0], output[0][0][1], output[0][0][2]))\n",
    "                file.write('%.6f %.6f %.6f\\n' % (output[0][0][0]/255., output[0][0][1]/255., output[0][0][2]/255.));"
   ]
  }
 ],
 "metadata": {
  "kernelspec": {
   "display_name": "pytorch",
   "language": "python",
   "name": "python3"
  },
  "language_info": {
   "codemirror_mode": {
    "name": "ipython",
    "version": 3
   },
   "file_extension": ".py",
   "mimetype": "text/x-python",
   "name": "python",
   "nbconvert_exporter": "python",
   "pygments_lexer": "ipython3",
   "version": "3.9.13"
  },
  "orig_nbformat": 4,
  "vscode": {
   "interpreter": {
    "hash": "a2d0302cd44d3b13a55a0d683f2d47ccae8b5254f785ec9540a3d2eedfeb70dc"
   }
  }
 },
 "nbformat": 4,
 "nbformat_minor": 2
}
